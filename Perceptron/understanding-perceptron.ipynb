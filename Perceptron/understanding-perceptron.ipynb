{
 "cells": [
  {
   "cell_type": "markdown",
   "id": "72882743",
   "metadata": {
    "papermill": {
     "duration": 0.007825,
     "end_time": "2023-05-28T12:40:33.767285",
     "exception": false,
     "start_time": "2023-05-28T12:40:33.759460",
     "status": "completed"
    },
    "tags": []
   },
   "source": [
    "# <center><span style=\"font-family:cursive;\">Understanding Perceptron</span></center>\n"
   ]
  },
  {
   "cell_type": "markdown",
   "id": "90003de3",
   "metadata": {
    "papermill": {
     "duration": 0.003119,
     "end_time": "2023-05-28T12:40:33.775284",
     "exception": false,
     "start_time": "2023-05-28T12:40:33.772165",
     "status": "completed"
    },
    "tags": []
   },
   "source": [
    "![](https://starship-knowledge.com/wp-content/uploads/2020/10/Perceptrons.jpeg )"
   ]
  },
  {
   "cell_type": "markdown",
   "id": "484af24c",
   "metadata": {
    "papermill": {
     "duration": 0.003349,
     "end_time": "2023-05-28T12:40:33.782467",
     "exception": false,
     "start_time": "2023-05-28T12:40:33.779118",
     "status": "completed"
    },
    "tags": []
   },
   "source": [
    "### Training: \n",
    "Various X's pass and we have output through this vaariables we obtain weights and biases\n",
    "\n",
    "### Prediction:\n",
    "Various X's , weights and biases(obtained from training) are passed through weighted sum function then it pass through Activation function (like Step function, tanh function, ReLU etc.) then we obtain Output"
   ]
  },
  {
   "cell_type": "code",
   "execution_count": 1,
   "id": "69eb7071",
   "metadata": {
    "execution": {
     "iopub.execute_input": "2023-05-28T12:40:33.791280Z",
     "iopub.status.busy": "2023-05-28T12:40:33.790758Z",
     "iopub.status.idle": "2023-05-28T12:40:35.319992Z",
     "shell.execute_reply": "2023-05-28T12:40:35.319031Z"
    },
    "papermill": {
     "duration": 1.537017,
     "end_time": "2023-05-28T12:40:35.322770",
     "exception": false,
     "start_time": "2023-05-28T12:40:33.785753",
     "status": "completed"
    },
    "tags": []
   },
   "outputs": [],
   "source": [
    "import numpy as np\n",
    "import pandas as pd\n",
    "import seaborn as sns\n",
    "import matplotlib.pyplot as plt"
   ]
  },
  {
   "cell_type": "code",
   "execution_count": 2,
   "id": "052c3188",
   "metadata": {
    "execution": {
     "iopub.execute_input": "2023-05-28T12:40:35.333593Z",
     "iopub.status.busy": "2023-05-28T12:40:35.332984Z",
     "iopub.status.idle": "2023-05-28T12:40:35.363554Z",
     "shell.execute_reply": "2023-05-28T12:40:35.362466Z"
    },
    "papermill": {
     "duration": 0.038931,
     "end_time": "2023-05-28T12:40:35.365936",
     "exception": false,
     "start_time": "2023-05-28T12:40:35.327005",
     "status": "completed"
    },
    "tags": []
   },
   "outputs": [],
   "source": [
    "df = pd.read_csv('/kaggle/input/titanic/train_data.csv',usecols=['Survived','Age','Fare'])"
   ]
  },
  {
   "cell_type": "code",
   "execution_count": 3,
   "id": "019662bd",
   "metadata": {
    "execution": {
     "iopub.execute_input": "2023-05-28T12:40:35.374592Z",
     "iopub.status.busy": "2023-05-28T12:40:35.373983Z",
     "iopub.status.idle": "2023-05-28T12:40:35.401067Z",
     "shell.execute_reply": "2023-05-28T12:40:35.399934Z"
    },
    "papermill": {
     "duration": 0.034451,
     "end_time": "2023-05-28T12:40:35.403900",
     "exception": false,
     "start_time": "2023-05-28T12:40:35.369449",
     "status": "completed"
    },
    "tags": []
   },
   "outputs": [
    {
     "name": "stdout",
     "output_type": "stream",
     "text": [
      "(792, 3)\n"
     ]
    },
    {
     "data": {
      "text/html": [
       "<div>\n",
       "<style scoped>\n",
       "    .dataframe tbody tr th:only-of-type {\n",
       "        vertical-align: middle;\n",
       "    }\n",
       "\n",
       "    .dataframe tbody tr th {\n",
       "        vertical-align: top;\n",
       "    }\n",
       "\n",
       "    .dataframe thead th {\n",
       "        text-align: right;\n",
       "    }\n",
       "</style>\n",
       "<table border=\"1\" class=\"dataframe\">\n",
       "  <thead>\n",
       "    <tr style=\"text-align: right;\">\n",
       "      <th></th>\n",
       "      <th>Survived</th>\n",
       "      <th>Age</th>\n",
       "      <th>Fare</th>\n",
       "    </tr>\n",
       "  </thead>\n",
       "  <tbody>\n",
       "    <tr>\n",
       "      <th>0</th>\n",
       "      <td>0</td>\n",
       "      <td>0.2750</td>\n",
       "      <td>0.014151</td>\n",
       "    </tr>\n",
       "    <tr>\n",
       "      <th>1</th>\n",
       "      <td>1</td>\n",
       "      <td>0.4750</td>\n",
       "      <td>0.139136</td>\n",
       "    </tr>\n",
       "    <tr>\n",
       "      <th>2</th>\n",
       "      <td>1</td>\n",
       "      <td>0.3250</td>\n",
       "      <td>0.015469</td>\n",
       "    </tr>\n",
       "    <tr>\n",
       "      <th>3</th>\n",
       "      <td>1</td>\n",
       "      <td>0.4375</td>\n",
       "      <td>0.103644</td>\n",
       "    </tr>\n",
       "    <tr>\n",
       "      <th>4</th>\n",
       "      <td>0</td>\n",
       "      <td>0.4375</td>\n",
       "      <td>0.015713</td>\n",
       "    </tr>\n",
       "  </tbody>\n",
       "</table>\n",
       "</div>"
      ],
      "text/plain": [
       "   Survived     Age      Fare\n",
       "0         0  0.2750  0.014151\n",
       "1         1  0.4750  0.139136\n",
       "2         1  0.3250  0.015469\n",
       "3         1  0.4375  0.103644\n",
       "4         0  0.4375  0.015713"
      ]
     },
     "execution_count": 3,
     "metadata": {},
     "output_type": "execute_result"
    }
   ],
   "source": [
    "print(df.shape)\n",
    "df.head()"
   ]
  },
  {
   "cell_type": "code",
   "execution_count": 4,
   "id": "0b4a8dba",
   "metadata": {
    "execution": {
     "iopub.execute_input": "2023-05-28T12:40:35.413567Z",
     "iopub.status.busy": "2023-05-28T12:40:35.413193Z",
     "iopub.status.idle": "2023-05-28T12:40:35.419636Z",
     "shell.execute_reply": "2023-05-28T12:40:35.418537Z"
    },
    "papermill": {
     "duration": 0.013675,
     "end_time": "2023-05-28T12:40:35.421584",
     "exception": false,
     "start_time": "2023-05-28T12:40:35.407909",
     "status": "completed"
    },
    "tags": []
   },
   "outputs": [],
   "source": [
    "df.dropna(inplace=True)"
   ]
  },
  {
   "cell_type": "code",
   "execution_count": 5,
   "id": "20522556",
   "metadata": {
    "execution": {
     "iopub.execute_input": "2023-05-28T12:40:35.432805Z",
     "iopub.status.busy": "2023-05-28T12:40:35.432431Z",
     "iopub.status.idle": "2023-05-28T12:40:35.808398Z",
     "shell.execute_reply": "2023-05-28T12:40:35.807350Z"
    },
    "papermill": {
     "duration": 0.382409,
     "end_time": "2023-05-28T12:40:35.810172",
     "exception": false,
     "start_time": "2023-05-28T12:40:35.427763",
     "status": "completed"
    },
    "tags": []
   },
   "outputs": [
    {
     "data": {
      "text/plain": [
       "<Axes: xlabel='Age', ylabel='Fare'>"
      ]
     },
     "execution_count": 5,
     "metadata": {},
     "output_type": "execute_result"
    },
    {
     "data": {
      "image/png": "[encoded data removed]",
      "text/plain": [
       "<Figure size 640x480 with 1 Axes>"
      ]
     },
     "metadata": {},
     "output_type": "display_data"
    }
   ],
   "source": [
    "sns.scatterplot(x=df['Age'],y=df['Fare'],hue=df['Survived'])"
   ]
  },
  {
   "cell_type": "code",
   "execution_count": 6,
   "id": "329948eb",
   "metadata": {
    "execution": {
     "iopub.execute_input": "2023-05-28T12:40:35.820549Z",
     "iopub.status.busy": "2023-05-28T12:40:35.820105Z",
     "iopub.status.idle": "2023-05-28T12:40:35.825655Z",
     "shell.execute_reply": "2023-05-28T12:40:35.824730Z"
    },
    "papermill": {
     "duration": 0.013487,
     "end_time": "2023-05-28T12:40:35.828195",
     "exception": false,
     "start_time": "2023-05-28T12:40:35.814708",
     "status": "completed"
    },
    "tags": []
   },
   "outputs": [],
   "source": [
    "X = df.iloc[:,1:3]\n",
    "y = df.iloc[:,0]"
   ]
  },
  {
   "cell_type": "code",
   "execution_count": 7,
   "id": "3715348d",
   "metadata": {
    "execution": {
     "iopub.execute_input": "2023-05-28T12:40:35.839733Z",
     "iopub.status.busy": "2023-05-28T12:40:35.838744Z",
     "iopub.status.idle": "2023-05-28T12:40:36.260354Z",
     "shell.execute_reply": "2023-05-28T12:40:36.259335Z"
    },
    "papermill": {
     "duration": 0.429499,
     "end_time": "2023-05-28T12:40:36.262800",
     "exception": false,
     "start_time": "2023-05-28T12:40:35.833301",
     "status": "completed"
    },
    "tags": []
   },
   "outputs": [],
   "source": [
    "from sklearn.linear_model import Perceptron\n",
    "p = Perceptron()"
   ]
  },
  {
   "cell_type": "code",
   "execution_count": 8,
   "id": "ea4f5624",
   "metadata": {
    "execution": {
     "iopub.execute_input": "2023-05-28T12:40:36.274090Z",
     "iopub.status.busy": "2023-05-28T12:40:36.273265Z",
     "iopub.status.idle": "2023-05-28T12:40:36.291155Z",
     "shell.execute_reply": "2023-05-28T12:40:36.290207Z"
    },
    "papermill": {
     "duration": 0.025787,
     "end_time": "2023-05-28T12:40:36.293057",
     "exception": false,
     "start_time": "2023-05-28T12:40:36.267270",
     "status": "completed"
    },
    "tags": []
   },
   "outputs": [
    {
     "data": {
      "text/html": [
       "<style>#sk-container-id-1 {color: black;background-color: white;}#sk-container-id-1 pre{padding: 0;}#sk-container-id-1 div.sk-toggleable {background-color: white;}#sk-container-id-1 label.sk-toggleable__label {cursor: pointer;display: block;width: 100%;margin-bottom: 0;padding: 0.3em;box-sizing: border-box;text-align: center;}#sk-container-id-1 label.sk-toggleable__label-arrow:before {content: \"▸\";float: left;margin-right: 0.25em;color: #696969;}#sk-container-id-1 label.sk-toggleable__label-arrow:hover:before {color: black;}#sk-container-id-1 div.sk-estimator:hover label.sk-toggleable__label-arrow:before {color: black;}#sk-container-id-1 div.sk-toggleable__content {max-height: 0;max-width: 0;overflow: hidden;text-align: left;background-color: #f0f8ff;}#sk-container-id-1 div.sk-toggleable__content pre {margin: 0.2em;color: black;border-radius: 0.25em;background-color: #f0f8ff;}#sk-container-id-1 input.sk-toggleable__control:checked~div.sk-toggleable__content {max-height: 200px;max-width: 100%;overflow: auto;}#sk-container-id-1 input.sk-toggleable__control:checked~label.sk-toggleable__label-arrow:before {content: \"▾\";}#sk-container-id-1 div.sk-estimator input.sk-toggleable__control:checked~label.sk-toggleable__label {background-color: #d4ebff;}#sk-container-id-1 div.sk-label input.sk-toggleable__control:checked~label.sk-toggleable__label {background-color: #d4ebff;}#sk-container-id-1 input.sk-hidden--visually {border: 0;clip: rect(1px 1px 1px 1px);clip: rect(1px, 1px, 1px, 1px);height: 1px;margin: -1px;overflow: hidden;padding: 0;position: absolute;width: 1px;}#sk-container-id-1 div.sk-estimator {font-family: monospace;background-color: #f0f8ff;border: 1px dotted black;border-radius: 0.25em;box-sizing: border-box;margin-bottom: 0.5em;}#sk-container-id-1 div.sk-estimator:hover {background-color: #d4ebff;}#sk-container-id-1 div.sk-parallel-item::after {content: \"\";width: 100%;border-bottom: 1px solid gray;flex-grow: 1;}#sk-container-id-1 div.sk-label:hover label.sk-toggleable__label {background-color: #d4ebff;}#sk-container-id-1 div.sk-serial::before {content: \"\";position: absolute;border-left: 1px solid gray;box-sizing: border-box;top: 0;bottom: 0;left: 50%;z-index: 0;}#sk-container-id-1 div.sk-serial {display: flex;flex-direction: column;align-items: center;background-color: white;padding-right: 0.2em;padding-left: 0.2em;position: relative;}#sk-container-id-1 div.sk-item {position: relative;z-index: 1;}#sk-container-id-1 div.sk-parallel {display: flex;align-items: stretch;justify-content: center;background-color: white;position: relative;}#sk-container-id-1 div.sk-item::before, #sk-container-id-1 div.sk-parallel-item::before {content: \"\";position: absolute;border-left: 1px solid gray;box-sizing: border-box;top: 0;bottom: 0;left: 50%;z-index: -1;}#sk-container-id-1 div.sk-parallel-item {display: flex;flex-direction: column;z-index: 1;position: relative;background-color: white;}#sk-container-id-1 div.sk-parallel-item:first-child::after {align-self: flex-end;width: 50%;}#sk-container-id-1 div.sk-parallel-item:last-child::after {align-self: flex-start;width: 50%;}#sk-container-id-1 div.sk-parallel-item:only-child::after {width: 0;}#sk-container-id-1 div.sk-dashed-wrapped {border: 1px dashed gray;margin: 0 0.4em 0.5em 0.4em;box-sizing: border-box;padding-bottom: 0.4em;background-color: white;}#sk-container-id-1 div.sk-label label {font-family: monospace;font-weight: bold;display: inline-block;line-height: 1.2em;}#sk-container-id-1 div.sk-label-container {text-align: center;}#sk-container-id-1 div.sk-container {/* jupyter's `normalize.less` sets `[hidden] { display: none; }` but bootstrap.min.css set `[hidden] { display: none !important; }` so we also need the `!important` here to be able to override the default hidden behavior on the sphinx rendered scikit-learn.org. See: https://github.com/scikit-learn/scikit-learn/issues/21755 */display: inline-block !important;position: relative;}#sk-container-id-1 div.sk-text-repr-fallback {display: none;}</style><div id=\"sk-container-id-1\" class=\"sk-top-container\"><div class=\"sk-text-repr-fallback\"><pre>Perceptron()</pre><b>In a Jupyter environment, please rerun this cell to show the HTML representation or trust the notebook. <br />On GitHub, the HTML representation is unable to render, please try loading this page with nbviewer.org.</b></div><div class=\"sk-container\" hidden><div class=\"sk-item\"><div class=\"sk-estimator sk-toggleable\"><input class=\"sk-toggleable__control sk-hidden--visually\" id=\"sk-estimator-id-1\" type=\"checkbox\" checked><label for=\"sk-estimator-id-1\" class=\"sk-toggleable__label sk-toggleable__label-arrow\">Perceptron</label><div class=\"sk-toggleable__content\"><pre>Perceptron()</pre></div></div></div></div></div>"
      ],
      "text/plain": [
       "Perceptron()"
      ]
     },
     "execution_count": 8,
     "metadata": {},
     "output_type": "execute_result"
    }
   ],
   "source": [
    "p.fit(X,y)"
   ]
  },
  {
   "cell_type": "markdown",
   "id": "aa48a01d",
   "metadata": {
    "papermill": {
     "duration": 0.004326,
     "end_time": "2023-05-28T12:40:36.302278",
     "exception": false,
     "start_time": "2023-05-28T12:40:36.297952",
     "status": "completed"
    },
    "tags": []
   },
   "source": [
    "### Obtaining Weight"
   ]
  },
  {
   "cell_type": "code",
   "execution_count": 9,
   "id": "d5dcc2a4",
   "metadata": {
    "execution": {
     "iopub.execute_input": "2023-05-28T12:40:36.312716Z",
     "iopub.status.busy": "2023-05-28T12:40:36.312351Z",
     "iopub.status.idle": "2023-05-28T12:40:36.319177Z",
     "shell.execute_reply": "2023-05-28T12:40:36.317911Z"
    },
    "papermill": {
     "duration": 0.014417,
     "end_time": "2023-05-28T12:40:36.321180",
     "exception": false,
     "start_time": "2023-05-28T12:40:36.306763",
     "status": "completed"
    },
    "tags": []
   },
   "outputs": [
    {
     "data": {
      "text/plain": [
       "array([[0.662875  , 3.72356212]])"
      ]
     },
     "execution_count": 9,
     "metadata": {},
     "output_type": "execute_result"
    }
   ],
   "source": [
    "p.coef_"
   ]
  },
  {
   "cell_type": "markdown",
   "id": "cd225d93",
   "metadata": {
    "papermill": {
     "duration": 0.004361,
     "end_time": "2023-05-28T12:40:36.330591",
     "exception": false,
     "start_time": "2023-05-28T12:40:36.326230",
     "status": "completed"
    },
    "tags": []
   },
   "source": [
    "### Obtaining Bias"
   ]
  },
  {
   "cell_type": "code",
   "execution_count": 10,
   "id": "928f655d",
   "metadata": {
    "execution": {
     "iopub.execute_input": "2023-05-28T12:40:36.341523Z",
     "iopub.status.busy": "2023-05-28T12:40:36.341124Z",
     "iopub.status.idle": "2023-05-28T12:40:36.347737Z",
     "shell.execute_reply": "2023-05-28T12:40:36.347056Z"
    },
    "papermill": {
     "duration": 0.014267,
     "end_time": "2023-05-28T12:40:36.349458",
     "exception": false,
     "start_time": "2023-05-28T12:40:36.335191",
     "status": "completed"
    },
    "tags": []
   },
   "outputs": [
    {
     "data": {
      "text/plain": [
       "array([-1.])"
      ]
     },
     "execution_count": 10,
     "metadata": {},
     "output_type": "execute_result"
    }
   ],
   "source": [
    "p.intercept_"
   ]
  }
 ],
 "metadata": {
  "kernelspec": {
   "display_name": "Python 3",
   "language": "python",
   "name": "python3"
  },
  "language_info": {
   "codemirror_mode": {
    "name": "ipython",
    "version": 3
   },
   "file_extension": ".py",
   "mimetype": "text/x-python",
   "name": "python",
   "nbconvert_exporter": "python",
   "pygments_lexer": "ipython3",
   "version": "3.10.10"
  },
  "papermill": {
   "default_parameters": {},
   "duration": 13.739149,
   "end_time": "2023-05-28T12:40:37.577712",
   "environment_variables": {},
   "exception": null,
   "input_path": "__notebook__.ipynb",
   "output_path": "__notebook__.ipynb",
   "parameters": {},
   "start_time": "2023-05-28T12:40:23.838563",
   "version": "2.4.0"
  }
 },
 "nbformat": 4,
 "nbformat_minor": 5
}
